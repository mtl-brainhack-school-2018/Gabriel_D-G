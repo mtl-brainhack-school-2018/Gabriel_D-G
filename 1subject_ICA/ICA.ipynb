{
 "cells": [
  {
   "cell_type": "code",
   "execution_count": 6,
   "metadata": {},
   "outputs": [],
   "source": [
    "import numpy as np\n",
    "import pylab as plt\n",
    "from nilearn import image\n",
    "import matplotlib\n",
    "from nilearn.plotting import plot_stat_map\n"
   ]
  },
  {
   "cell_type": "code",
   "execution_count": 7,
   "metadata": {},
   "outputs": [],
   "source": [
    "output = '/scratch/desgab/fmriprep/trial2_1subject_analysis/output/fmriprep/sub-01/'\n",
    "from nilearn.plotting import plot_epi\n",
    "mask_preproc = output + 'ses-1/func/sub-01_ses-1_task-rest_acq-fullbrain_run-2_bold_space-T1w_brainmask.nii.gz'\n",
    "preproc = output + 'ses-1/func/sub-01_ses-1_task-rest_acq-fullbrain_run-2_bold_space-T1w_preproc.nii.gz'\n"
   ]
  },
  {
   "cell_type": "code",
   "execution_count": null,
   "metadata": {},
   "outputs": [],
   "source": []
  },
  {
   "cell_type": "code",
   "execution_count": 8,
   "metadata": {},
   "outputs": [
    {
     "name": "stdout",
     "output_type": "stream",
     "text": [
      "[MultiNiftiMasker.fit] Loading data from None\n",
      "[MultiNiftiMasker.transform] Resampling mask\n",
      "[CanICA] Loading data\n",
      "[MultiNiftiMasker.transform_single_imgs] Loading data from Nifti1Image('/scratch/desgab/fmriprep/trial2_1subject_analysis/output/fmriprep/sub-01/ses-1/func/sub-01_ses-1_task-rest_acq-fullbrain_run-2_bold_space-T1w_preproc.nii.gz')\n",
      "[MultiNiftiMasker.transform_single_imgs] Smoothing images\n",
      "[MultiNiftiMasker.transform_single_imgs] Extracting region signals\n",
      "[MultiNiftiMasker.transform_single_imgs] Cleaning extracted signals\n",
      "________________________________________________________________________________\n",
      "[Memory] Calling sklearn.utils.extmath.randomized_svd...\n",
      "randomized_svd(array([[0.000197, ..., 0.001084],\n",
      "       ...,\n",
      "       [0.001743, ..., 0.000198]]), n_components=20, transpose=True, random_state=0, n_iter=3)\n",
      "___________________________________________________randomized_svd - 2.1s, 0.0min\n",
      "________________________________________________________________________________\n",
      "[Memory] Calling sklearn.decomposition.fastica_.fastica...\n",
      "fastica(array([[0.000722, ..., 0.002264],\n",
      "       ...,\n",
      "       [0.000774, ..., 0.001039]]), whiten=True, fun='cube', random_state=209652396)\n",
      "_________________________________________________________fastica - 31.0s, 0.5min\n"
     ]
    },
    {
     "name": "stderr",
     "output_type": "stream",
     "text": [
      "[Parallel(n_jobs=1)]: Done   1 out of   1 | elapsed:   31.1s remaining:    0.0s\n"
     ]
    },
    {
     "name": "stdout",
     "output_type": "stream",
     "text": [
      "________________________________________________________________________________\n",
      "[Memory] Calling sklearn.decomposition.fastica_.fastica...\n",
      "fastica(array([[0.000722, ..., 0.002264],\n",
      "       ...,\n",
      "       [0.000774, ..., 0.001039]]), whiten=True, fun='cube', random_state=398764591)\n",
      "_________________________________________________________fastica - 49.8s, 0.8min\n"
     ]
    },
    {
     "name": "stderr",
     "output_type": "stream",
     "text": [
      "[Parallel(n_jobs=1)]: Done   2 out of   2 | elapsed:  1.4min remaining:    0.0s\n"
     ]
    },
    {
     "name": "stdout",
     "output_type": "stream",
     "text": [
      "________________________________________________________________________________\n",
      "[Memory] Calling sklearn.decomposition.fastica_.fastica...\n",
      "fastica(array([[0.000722, ..., 0.002264],\n",
      "       ...,\n",
      "       [0.000774, ..., 0.001039]]), whiten=True, fun='cube', random_state=924231285)\n",
      "_________________________________________________________fastica - 43.5s, 0.7min\n"
     ]
    },
    {
     "name": "stderr",
     "output_type": "stream",
     "text": [
      "[Parallel(n_jobs=1)]: Done   3 out of   3 | elapsed:  2.1min remaining:    0.0s\n"
     ]
    },
    {
     "name": "stdout",
     "output_type": "stream",
     "text": [
      "________________________________________________________________________________\n",
      "[Memory] Calling sklearn.decomposition.fastica_.fastica...\n",
      "fastica(array([[0.000722, ..., 0.002264],\n",
      "       ...,\n",
      "       [0.000774, ..., 0.001039]]), whiten=True, fun='cube', random_state=1478610112)\n",
      "_________________________________________________________fastica - 42.4s, 0.7min\n"
     ]
    },
    {
     "name": "stderr",
     "output_type": "stream",
     "text": [
      "[Parallel(n_jobs=1)]: Done   4 out of   4 | elapsed:  2.8min remaining:    0.0s\n"
     ]
    },
    {
     "name": "stdout",
     "output_type": "stream",
     "text": [
      "________________________________________________________________________________\n",
      "[Memory] Calling sklearn.decomposition.fastica_.fastica...\n",
      "fastica(array([[0.000722, ..., 0.002264],\n",
      "       ...,\n",
      "       [0.000774, ..., 0.001039]]), whiten=True, fun='cube', random_state=441365315)\n",
      "_________________________________________________________fastica - 36.5s, 0.6min\n"
     ]
    },
    {
     "name": "stderr",
     "output_type": "stream",
     "text": [
      "[Parallel(n_jobs=1)]: Done   5 out of   5 | elapsed:  3.4min remaining:    0.0s\n"
     ]
    },
    {
     "name": "stdout",
     "output_type": "stream",
     "text": [
      "________________________________________________________________________________\n",
      "[Memory] Calling sklearn.decomposition.fastica_.fastica...\n",
      "fastica(array([[0.000722, ..., 0.002264],\n",
      "       ...,\n",
      "       [0.000774, ..., 0.001039]]), whiten=True, fun='cube', random_state=1537364731)\n",
      "_________________________________________________________fastica - 36.2s, 0.6min\n"
     ]
    },
    {
     "name": "stderr",
     "output_type": "stream",
     "text": [
      "[Parallel(n_jobs=1)]: Done   6 out of   6 | elapsed:  4.0min remaining:    0.0s\n"
     ]
    },
    {
     "name": "stdout",
     "output_type": "stream",
     "text": [
      "________________________________________________________________________________\n",
      "[Memory] Calling sklearn.decomposition.fastica_.fastica...\n",
      "fastica(array([[0.000722, ..., 0.002264],\n",
      "       ...,\n",
      "       [0.000774, ..., 0.001039]]), whiten=True, fun='cube', random_state=192771779)\n",
      "_________________________________________________________fastica - 53.4s, 0.9min\n"
     ]
    },
    {
     "name": "stderr",
     "output_type": "stream",
     "text": [
      "[Parallel(n_jobs=1)]: Done   7 out of   7 | elapsed:  4.9min remaining:    0.0s\n"
     ]
    },
    {
     "name": "stdout",
     "output_type": "stream",
     "text": [
      "________________________________________________________________________________\n",
      "[Memory] Calling sklearn.decomposition.fastica_.fastica...\n",
      "fastica(array([[0.000722, ..., 0.002264],\n",
      "       ...,\n",
      "       [0.000774, ..., 0.001039]]), whiten=True, fun='cube', random_state=1491434855)\n",
      "_________________________________________________________fastica - 31.2s, 0.5min\n"
     ]
    },
    {
     "name": "stderr",
     "output_type": "stream",
     "text": [
      "[Parallel(n_jobs=1)]: Done   8 out of   8 | elapsed:  5.4min remaining:    0.0s\n"
     ]
    },
    {
     "name": "stdout",
     "output_type": "stream",
     "text": [
      "________________________________________________________________________________\n",
      "[Memory] Calling sklearn.decomposition.fastica_.fastica...\n",
      "fastica(array([[0.000722, ..., 0.002264],\n",
      "       ...,\n",
      "       [0.000774, ..., 0.001039]]), whiten=True, fun='cube', random_state=1819583497)\n",
      "_________________________________________________________fastica - 26.3s, 0.4min\n"
     ]
    },
    {
     "name": "stderr",
     "output_type": "stream",
     "text": [
      "[Parallel(n_jobs=1)]: Done   9 out of   9 | elapsed:  5.9min remaining:    0.0s\n"
     ]
    },
    {
     "name": "stdout",
     "output_type": "stream",
     "text": [
      "________________________________________________________________________________\n",
      "[Memory] Calling sklearn.decomposition.fastica_.fastica...\n",
      "fastica(array([[0.000722, ..., 0.002264],\n",
      "       ...,\n",
      "       [0.000774, ..., 0.001039]]), whiten=True, fun='cube', random_state=530702035)\n",
      "_________________________________________________________fastica - 33.2s, 0.6min\n"
     ]
    },
    {
     "name": "stderr",
     "output_type": "stream",
     "text": [
      "[Parallel(n_jobs=1)]: Done  10 out of  10 | elapsed:  6.4min finished\n"
     ]
    }
   ],
   "source": [
    "from nilearn.decomposition import CanICA\n",
    "\n",
    "canica = CanICA(mask=mask_preproc, n_components=20, smoothing_fwhm=6.,\n",
    "                memory=\"nilearn_cache\", memory_level=2,\n",
    "                threshold=3., verbose=10, random_state=0)\n",
    "canica.fit(preproc)\n",
    "\n",
    "# Retrieve the independent components in brain space. Directly\n",
    "# accesible through attribute `components_img_`. Note that this\n",
    "# attribute is implemented from version 0.4.1. For older versions,\n",
    "# see note section above for details.\n",
    "components_img = canica.components_img_\n",
    "# components_img is a Nifti Image object, and can be saved to a file with\n",
    "# the following line:\n",
    "components_img.to_filename('run2_canica_resting_state.nii.gz')"
   ]
  },
  {
   "cell_type": "code",
   "execution_count": null,
   "metadata": {},
   "outputs": [],
   "source": []
  }
 ],
 "metadata": {
  "kernelspec": {
   "display_name": "nilearn",
   "language": "python",
   "name": "nilearn"
  },
  "language_info": {
   "codemirror_mode": {
    "name": "ipython",
    "version": 3
   },
   "file_extension": ".py",
   "mimetype": "text/x-python",
   "name": "python",
   "nbconvert_exporter": "python",
   "pygments_lexer": "ipython3",
   "version": "3.6.5"
  }
 },
 "nbformat": 4,
 "nbformat_minor": 2
}
